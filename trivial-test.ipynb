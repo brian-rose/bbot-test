{
 "cells": [
  {
   "cell_type": "markdown",
   "id": "4b018b7e",
   "metadata": {},
   "source": [
    "# Just a trivial example for testing"
   ]
  },
  {
   "cell_type": "code",
   "execution_count": null,
   "id": "b0bf1434",
   "metadata": {
    "execution": {
     "iopub.execute_input": "2022-09-23T21:09:22.612258Z",
     "iopub.status.busy": "2022-09-23T21:09:22.611182Z",
     "iopub.status.idle": "2022-09-23T21:09:25.125064Z",
     "shell.execute_reply": "2022-09-23T21:09:25.122622Z"
    }
   },
   "outputs": [],
   "source": [
    "import numpy as np\n",
    "import matplotlib.pyplot as plt"
   ]
  },
  {
   "cell_type": "code",
   "execution_count": null,
   "id": "9802467f",
   "metadata": {
    "execution": {
     "iopub.execute_input": "2022-09-23T21:09:25.146035Z",
     "iopub.status.busy": "2022-09-23T21:09:25.143835Z",
     "iopub.status.idle": "2022-09-23T21:09:25.173887Z",
     "shell.execute_reply": "2022-09-23T21:09:25.171949Z"
    }
   },
   "outputs": [],
   "source": [
    "A = np.linspace(0,1)\n",
    "A"
   ]
  },
  {
   "cell_type": "code",
   "execution_count": null,
   "id": "be064562",
   "metadata": {
    "execution": {
     "iopub.execute_input": "2022-09-23T21:09:25.185629Z",
     "iopub.status.busy": "2022-09-23T21:09:25.183340Z",
     "iopub.status.idle": "2022-09-23T21:09:25.859592Z",
     "shell.execute_reply": "2022-09-23T21:09:25.857485Z"
    }
   },
   "outputs": [],
   "source": [
    "plt.plot(A, A**2)"
   ]
  },
  {
   "cell_type": "code",
   "execution_count": null,
   "id": "dbede9f4",
   "metadata": {},
   "outputs": [],
   "source": []
  }
 ],
 "metadata": {
  "kernelspec": {
   "display_name": "Python 3 (ipykernel)",
   "language": "python",
   "name": "python3"
  },
  "language_info": {
   "codemirror_mode": {
    "name": "ipython",
    "version": 3
   },
   "file_extension": ".py",
   "mimetype": "text/x-python",
   "name": "python",
   "nbconvert_exporter": "python",
   "pygments_lexer": "ipython3",
   "version": "3.10.4"
  }
 },
 "nbformat": 4,
 "nbformat_minor": 5
}
